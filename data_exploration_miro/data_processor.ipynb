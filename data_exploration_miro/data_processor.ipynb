{
 "cells": [
  {
   "cell_type": "code",
   "execution_count": 235,
   "metadata": {},
   "outputs": [],
   "source": [
    "import pandas as pd\n",
    "import numpy as np\n",
    "import json\n",
    "from pathlib import Path"
   ]
  },
  {
   "cell_type": "markdown",
   "metadata": {},
   "source": [
    "Read the data"
   ]
  },
  {
   "cell_type": "code",
   "execution_count": 236,
   "metadata": {},
   "outputs": [
    {
     "name": "stdout",
     "output_type": "stream",
     "text": [
      "number of records included: 60000\n",
      "number of records considered: 87531401\n"
     ]
    }
   ],
   "source": [
    "dataset = \"eu_emission_mother_load.csv\" \n",
    "col_list = ['Make', 'Fuel', 'Model', 'Cnt', 'Wltp', 'NEDC', 'year']\n",
    "type_dict = {\n",
    "    \"Make\": np.str,\n",
    "    \"Model\": np.str,\n",
    "    \"NEDC\": np.float,\n",
    "    \"Wltp\": np.float,\n",
    "    \"Fuel\": np.str,\n",
    "    \"Cnt\": np.int,\n",
    "    \"year\": np.int\n",
    "}\n",
    "df = pd.read_csv(dataset, dtype=type_dict, usecols=col_list)\n",
    "\n",
    "print(f\"number of records included: {len(df)}\")\n",
    "print(f\"number of records considered: {np.sum(df['Cnt'])}\")"
   ]
  },
  {
   "cell_type": "markdown",
   "metadata": {},
   "source": [
    "Simple clean"
   ]
  },
  {
   "cell_type": "code",
   "execution_count": 237,
   "metadata": {},
   "outputs": [],
   "source": [
    "columns_to_upper_case = [\"Make\", \"Model\", \"Fuel\"]\n",
    "for col_name in columns_to_upper_case:\n",
    "    df.loc[:, col_name] = df.loc[:, col_name].apply(lambda s: str(s).upper().strip())\n",
    "#makes string, puts it to upper case, and strips preceeding and following spaces"
   ]
  },
  {
   "cell_type": "code",
   "execution_count": 238,
   "metadata": {},
   "outputs": [
    {
     "name": "stdout",
     "output_type": "stream",
     "text": [
      "             Make    Fuel                      Model     Cnt   Wltp   NEDC  \\\n",
      "0         RENAULT  PETROL                       CLIO  401080  134.0  114.0   \n",
      "1         CITROEN  PETROL                         C3  324540  135.0  106.0   \n",
      "2           DACIA  PETROL                    SANDERO  321984  146.0  124.0   \n",
      "3         PEUGEOT  PETROL                        208  315989  133.0  106.0   \n",
      "4           DACIA  PETROL                    SANDERO  308575  147.0  118.0   \n",
      "...           ...     ...                        ...     ...    ...    ...   \n",
      "59995        FORD  DIESEL  MONDEO TI-NIUM X TDCI163A      22    NaN    NaN   \n",
      "59996     RENAULT  DIESEL                    RENAULT      22    NaN    NaN   \n",
      "59997  VOLKSWAGEN  DIESEL         SHARAN / 2.0 / TDI      22    NaN    NaN   \n",
      "59998        AUDI  PETROL                 TT RS COUP      22    NaN  190.0   \n",
      "59999     RENAULT  DIESEL         KANGOO / 1.5 / DCI      22    NaN    NaN   \n",
      "\n",
      "       year  \n",
      "0      2018  \n",
      "1      2019  \n",
      "2      2019  \n",
      "3      2018  \n",
      "4      2018  \n",
      "...     ...  \n",
      "59995  2013  \n",
      "59996  2011  \n",
      "59997  2014  \n",
      "59998  2018  \n",
      "59999  2012  \n",
      "\n",
      "[59875 rows x 7 columns]\n"
     ]
    }
   ],
   "source": [
    "filter_away_Makes = ['OUT OF SCOPE', 'UNKNOWN', 'DUPLICATE']\n",
    "df = df.loc[~df['Make'].isin(filter_away_Makes)]\n",
    "\n",
    "filter_away_Models = ['OUT OF SCOPE', 'UNKNOWN', 'DUPLICATE']\n",
    "df = df.loc[~df['Model'].isin(filter_away_Makes)]\n",
    "\n",
    "# removing DIESEL/ELECTRIC and PETROL/ELECTRIC -> \"-\" instead of \"/\"\n",
    "df.loc[:, \"Fuel\"] = df[\"Fuel\"].apply(lambda s: \"-\".join(s.split(\"/\")))\n",
    "print(df)"
   ]
  },
  {
   "cell_type": "markdown",
   "metadata": {},
   "source": [
    "merging Wltp and NEDC"
   ]
  },
  {
   "cell_type": "code",
   "execution_count": 239,
   "metadata": {},
   "outputs": [
    {
     "data": {
      "text/plain": [
       "\"\\ncount = 0\\nfor index, row in df.iterrows():\\n    if np.isnan(row['Wltp']) and np.isnan(row['NEDC']):\\n        count += 1\\nprint(count)\\n\""
      ]
     },
     "execution_count": 239,
     "metadata": {},
     "output_type": "execute_result"
    }
   ],
   "source": [
    "Wltp_per_NEDC = 1.2 #average ratio\n",
    "# TODO: 26931 rows have nans for both nedc and wltp\n",
    "'''\n",
    "count = 0\n",
    "for index, row in df.iterrows():\n",
    "    if np.isnan(row['Wltp']) and np.isnan(row['NEDC']):\n",
    "        count += 1\n",
    "print(count)\n",
    "'''"
   ]
  },
  {
   "cell_type": "code",
   "execution_count": 240,
   "metadata": {},
   "outputs": [],
   "source": [
    "df.loc[:, \"Wltp\"].where(df['Wltp'].notna(), df['NEDC'] * Wltp_per_NEDC, inplace=True)\n",
    "df['co2e'] = df['Wltp']\n",
    "df.drop(columns=[\"NEDC\", \"Wltp\"], inplace=True)\n",
    "df.dropna(axis = 0, inplace = True)"
   ]
  },
  {
   "cell_type": "markdown",
   "metadata": {},
   "source": [
    "Renaming Makes"
   ]
  },
  {
   "cell_type": "code",
   "execution_count": 241,
   "metadata": {},
   "outputs": [],
   "source": [
    "#F.e. when Make is AUDI AG it will be renamed to AUDI\n",
    "Make_dict = {}\n",
    "with open('Make_dict.json') as Make_dict_file:\n",
    "    Make_dict = json.load(Make_dict_file)\n",
    "\n",
    "df.loc[:, 'Make'].replace(Make_dict, inplace=True)"
   ]
  },
  {
   "cell_type": "markdown",
   "metadata": {},
   "source": [
    "Cleaning Model"
   ]
  },
  {
   "cell_type": "code",
   "execution_count": 242,
   "metadata": {},
   "outputs": [
    {
     "name": "stdout",
     "output_type": "stream",
     "text": [
      "             Make    Fuel       Model     Cnt  year   co2e\n",
      "0         RENAULT  PETROL        CLIO  401080  2018  134.0\n",
      "1         CITROEN  PETROL          C3  324540  2019  135.0\n",
      "2           DACIA  PETROL     SANDERO  321984  2019  146.0\n",
      "3         PEUGEOT  PETROL         208  315989  2018  133.0\n",
      "4           DACIA  PETROL     SANDERO  308575  2018  147.0\n",
      "...           ...     ...         ...     ...   ...    ...\n",
      "59965        AUDI      NG          A5      22  2019  130.0\n",
      "59973  VOLKSWAGEN      NG       CADDY      22  2020  128.0\n",
      "59990        OPEL     LPG   KARLROCKS      22  2018  129.6\n",
      "59993     FERRARI  PETROL  CALIFORNIA      22  2018  301.2\n",
      "59998        AUDI  PETROL  TT RS COUP      22  2018  228.0\n",
      "\n",
      "[32944 rows x 6 columns]\n"
     ]
    }
   ],
   "source": [
    "#when Make is AUDI and Model is AUDI A4 this clean up will change the Model to A4.\n",
    "df['Model'] = df.apply(lambda row: \n",
    "    row['Model'][len(row['Make']) + 1: ] \n",
    "    if len(row['Make']) > len(row['Model']) and \n",
    "        row['Make'] == row['Model'][ : len(row['Make'])] and \n",
    "        row['Model'][len(row['Make'])] == \" \"\n",
    "    else row['Model'],\n",
    "    axis=1)\n",
    "print(df)"
   ]
  },
  {
   "cell_type": "markdown",
   "metadata": {},
   "source": [
    "Grouping by"
   ]
  },
  {
   "cell_type": "code",
   "execution_count": 243,
   "metadata": {},
   "outputs": [
    {
     "name": "stdout",
     "output_type": "stream",
     "text": [
      "         Make                     Model             Fuel  year   Cnt   co2e\n",
      "0      ABARTH      124 GT MULTIAIR AUTO           PETROL  2018    26  183.6\n",
      "1      ABARTH      124 GT MULTIAIR AUTO           PETROL  2019    24  183.6\n",
      "2      ABARTH       124 SPIDER MULTIAIR           PETROL  2018  1078  177.6\n",
      "3      ABARTH       124 SPIDER MULTIAIR           PETROL  2019    68  177.6\n",
      "4      ABARTH  124 SPIDER MULTIAIR AUTO           PETROL  2018   804  183.6\n",
      "...       ...                       ...              ...   ...   ...    ...\n",
      "27684   VOLVO       XC90 T8 TWIN ENGINE           PETROL  2020    73   66.0\n",
      "27685   VOLVO       XC90 T8 TWIN ENGINE  PETROL-ELECTRIC  2017  2424   58.8\n",
      "27686   VOLVO       XC90 T8 TWIN ENGINE  PETROL-ELECTRIC  2018  5072  129.0\n",
      "27687   VOLVO       XC90 T8 TWIN ENGINE  PETROL-ELECTRIC  2019  8310   82.0\n",
      "27688   VOLVO       XC90 T8 TWIN ENGINE  PETROL-ELECTRIC  2020  3699   73.0\n",
      "\n",
      "[27689 rows x 6 columns]\n"
     ]
    }
   ],
   "source": [
    "#We might have some duplicates in our data\n",
    "df['Cnt_co2e'] = df['Cnt'] * df['co2e']\n",
    "grouped = df.groupby(['Make', 'Model', 'Fuel', 'year']).agg(\n",
    "    Cnt=pd.NamedAgg(column='Cnt', aggfunc='sum'),\n",
    "    Cnt_co2e=pd.NamedAgg(column='Cnt_co2e', aggfunc='sum')\n",
    ")\n",
    "df = grouped.reset_index()\n",
    "df['co2e'] = df['Cnt_co2e'] / df['Cnt'] #weighted average\n",
    "df.drop(columns='Cnt_co2e', inplace=True)\n",
    "print(df)"
   ]
  },
  {
   "cell_type": "markdown",
   "metadata": {},
   "source": [
    "Generating Make dictionary"
   ]
  },
  {
   "cell_type": "code",
   "execution_count": 244,
   "metadata": {},
   "outputs": [],
   "source": [
    "Makes = np.unique(df['Make'])\n",
    "new_Make_dict = {}\n",
    "for b in Makes:\n",
    "    if b in Make_dict:\n",
    "        new_Make_dict[b] = Make_dict[b]\n",
    "    else:\n",
    "        new_Make_dict[b] = b\n",
    "\n",
    "#in Makes_found.json all brands included should be reasonable\n",
    "with open(\"Makes_found.json\", \"w\") as outfile:\n",
    "    json.dump(new_Make_dict, outfile, indent=4)\n",
    "\n"
   ]
  },
  {
   "cell_type": "markdown",
   "metadata": {},
   "source": [
    "Generating Model dictionary"
   ]
  },
  {
   "cell_type": "code",
   "execution_count": 245,
   "metadata": {},
   "outputs": [],
   "source": [
    "Models = np.unique(df['Model'])\n",
    "new_Model_dict = {}\n",
    "for b in Models:\n",
    "    #if b in Model_dict:\n",
    "    #    new_Model_dict[b] = Model_dict[b]\n",
    "    #else:\n",
    "        new_Model_dict[b] = b\n",
    "\n",
    "#in Models_found.json all brands included should be reasonable\n",
    "with open(\"Models_found.json\", \"w\") as outfile:\n",
    "    json.dump(new_Model_dict, outfile, indent=4)\n"
   ]
  },
  {
   "cell_type": "markdown",
   "metadata": {},
   "source": [
    "Making sure no nans are included"
   ]
  },
  {
   "cell_type": "code",
   "execution_count": 246,
   "metadata": {},
   "outputs": [],
   "source": [
    "df.dropna(axis='index', inplace=True)"
   ]
  },
  {
   "cell_type": "markdown",
   "metadata": {},
   "source": [
    "Filtering based on count"
   ]
  },
  {
   "cell_type": "code",
   "execution_count": 249,
   "metadata": {},
   "outputs": [
    {
     "name": "stdout",
     "output_type": "stream",
     "text": [
      "         Make                     Model             Fuel  year   Cnt   co2e\n",
      "0      ABARTH       124 SPIDER MULTIAIR           PETROL  2018  1078  177.6\n",
      "1      ABARTH  124 SPIDER MULTIAIR AUTO           PETROL  2018   804  183.6\n",
      "2      ABARTH  124 SPIDER MULTIAIR AUTO           PETROL  2019   412  183.6\n",
      "3      ABARTH                       595           PETROL  2018  3930  162.0\n",
      "4      ABARTH                       595           PETROL  2019  2026  162.0\n",
      "...       ...                       ...              ...   ...   ...    ...\n",
      "17926   VOLVO                   XC90 T8  PETROL-ELECTRIC  2019   154   75.0\n",
      "17927   VOLVO       XC90 T8 TWIN ENGINE  PETROL-ELECTRIC  2017  2424   58.8\n",
      "17928   VOLVO       XC90 T8 TWIN ENGINE  PETROL-ELECTRIC  2018  5072  129.0\n",
      "17929   VOLVO       XC90 T8 TWIN ENGINE  PETROL-ELECTRIC  2019  8310   82.0\n",
      "17930   VOLVO       XC90 T8 TWIN ENGINE  PETROL-ELECTRIC  2020  3699   73.0\n",
      "\n",
      "[17931 rows x 6 columns]\n"
     ]
    }
   ],
   "source": [
    "min_count = 100\n",
    "df = df[df['Cnt'] >= min_count]\n",
    "df.reset_index(inplace=True, drop=True)\n",
    "#print(df.groupby('Make').Model.count()) #number of Models per Make\n",
    "print(df)"
   ]
  }
 ],
 "metadata": {
  "interpreter": {
   "hash": "ddc449e184181b92a3fe67274b6e4c8dcfa889261481199855b4e74d65938a86"
  },
  "kernelspec": {
   "display_name": "Python 3.9.0 64-bit",
   "language": "python",
   "name": "python3"
  },
  "language_info": {
   "codemirror_mode": {
    "name": "ipython",
    "version": 3
   },
   "file_extension": ".py",
   "mimetype": "text/x-python",
   "name": "python",
   "nbconvert_exporter": "python",
   "pygments_lexer": "ipython3",
   "version": "3.9.0"
  },
  "orig_nbformat": 4
 },
 "nbformat": 4,
 "nbformat_minor": 2
}
