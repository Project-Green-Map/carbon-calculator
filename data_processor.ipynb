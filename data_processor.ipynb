{
 "cells": [
  {
   "cell_type": "code",
   "execution_count": 31,
   "metadata": {},
   "outputs": [],
   "source": [
    "import pandas as pd\n",
    "import numpy as np\n",
    "import json\n",
    "from pathlib import Path"
   ]
  },
  {
   "cell_type": "markdown",
   "metadata": {},
   "source": [
    "Read the data"
   ]
  },
  {
   "cell_type": "code",
   "execution_count": null,
   "metadata": {},
   "outputs": [],
   "source": [
    "dataset = \"eu_emission_mother_load.csv\" \n",
    "col_list = ['Make', 'Fuel', 'Model', 'Cnt', 'Wltp', 'NEDC', 'year']\n",
    "type_dict = {\n",
    "    \"Make\": np.str,\n",
    "    \"Model\": np.str,\n",
    "    \"NEDC\": np.float,\n",
    "    \"Wltp\": np.float,\n",
    "    \"Fuel\": np.str,\n",
    "    \"Cnt\": np.int,\n",
    "    \"year\": np.int\n",
    "}\n",
    "df = pd.read_csv(dataset, dtype=type_dict, usecols=col_list)\n",
    "df.rename(columns={\n",
    "    \"Make\": \"Brand\",\n",
    "    \"NEDC\": \"Nedc\",\n",
    "}, inplace=True)\n",
    "\n",
    "print(f\"number of records included: {len(df)}\")\n",
    "print(f\"number of records considered: {np.sum(df['Cnt'])}\")"
   ]
  },
  {
   "cell_type": "markdown",
   "metadata": {},
   "source": [
    "Simple clean"
   ]
  },
  {
   "cell_type": "code",
   "execution_count": 33,
   "metadata": {},
   "outputs": [],
   "source": [
    "columns_to_upper_case = [\"Brand\", \"Model\", \"Fuel\"]\n",
    "for col_name in columns_to_upper_case:\n",
    "    df.loc[:, col_name] = df.loc[:, col_name].apply(lambda s: str(s).upper().strip())\n",
    "#makes string, puts it to upper case, and strips preceeding and following spaces"
   ]
  },
  {
   "cell_type": "code",
   "execution_count": 34,
   "metadata": {},
   "outputs": [],
   "source": [
    "filter_away = ['OUT OF SCOPE', 'UNKNOWN', 'DUPLICATE', 'NAN']\n",
    "for column in ['Brand', 'Model', 'Fuel']:\n",
    "    df = df.loc[~df[column].isin(filter_away)]\n",
    "\n",
    "# removing DIESEL/ELECTRIC and PETROL/ELECTRIC -> \"-\" instead of \"/\"\n",
    "df.loc[:, \"Fuel\"] = df[\"Fuel\"].apply(lambda s: \"-\".join(s.split(\"/\")))"
   ]
  },
  {
   "cell_type": "markdown",
   "metadata": {},
   "source": [
    "merging Wltp and Nedc"
   ]
  },
  {
   "cell_type": "code",
   "execution_count": null,
   "metadata": {},
   "outputs": [],
   "source": [
    "Wltp_per_Nedc = 1.2 #average ratio\n",
    "# 26931 rows have nans for both nedc and wltp\n",
    "'''\n",
    "count = 0\n",
    "for index, row in df.iterrows():\n",
    "    if np.isnan(row['Wltp']) and np.isnan(row['Nedc']):\n",
    "        count += 1\n",
    "print(count)\n",
    "'''"
   ]
  },
  {
   "cell_type": "code",
   "execution_count": 36,
   "metadata": {},
   "outputs": [],
   "source": [
    "df.loc[:, \"Wltp\"].where(df['Wltp'].notna(), df['Nedc'] * Wltp_per_Nedc, inplace=True)\n",
    "df['co2e'] = df['Wltp']\n",
    "df.drop(columns=[\"Nedc\", \"Wltp\"], inplace=True)\n",
    "df.dropna(axis = 0, inplace = True)"
   ]
  },
  {
   "cell_type": "markdown",
   "metadata": {},
   "source": [
    "Renaming Brands"
   ]
  },
  {
   "cell_type": "code",
   "execution_count": 37,
   "metadata": {},
   "outputs": [],
   "source": [
    "#F.e. when Brand is AUDI AG it will be renamed to AUDI\n",
    "Brand_dict = {}\n",
    "with open('Brand_dict.json') as Brand_dict_file:\n",
    "    Brand_dict = json.load(Brand_dict_file)\n",
    "\n",
    "df.loc[:, 'Brand'].replace(Brand_dict, inplace=True)"
   ]
  },
  {
   "cell_type": "markdown",
   "metadata": {},
   "source": [
    "Cleaning Model"
   ]
  },
  {
   "cell_type": "code",
   "execution_count": 38,
   "metadata": {},
   "outputs": [],
   "source": [
    "#when Brand is AUDI and Model is AUDI A4 this clean up will change the Model to A4.\n",
    "def clean_make_from_model():\n",
    "    df['Model'] = df.apply(lambda row: \n",
    "        row['Model'][len(row['Brand']) + 1 : ] \n",
    "        if len(row['Brand']) < len(row['Model']) and \n",
    "            row['Brand'] == row['Model'][ : len(row['Brand'])] and \n",
    "            row['Model'][len(row['Brand'])] == \" \"\n",
    "        else row['Model'],\n",
    "        axis=1)\n",
    "clean_make_from_model()"
   ]
  },
  {
   "cell_type": "code",
   "execution_count": 39,
   "metadata": {},
   "outputs": [],
   "source": [
    "#ensures that model names are at most max_number_model_words words long\n",
    "exclude = [\"/\", \" \"]\n",
    "max_number_model_words = 3\n",
    "def clean_model(s):\n",
    "    return \" \".join(\n",
    "            tuple(\n",
    "                filter(lambda x: x not in exclude, s.split())\n",
    "            )[ : max_number_model_words]\n",
    "        )\n",
    "df['Model'] = df['Model'].apply(clean_model)"
   ]
  },
  {
   "cell_type": "code",
   "execution_count": 40,
   "metadata": {},
   "outputs": [],
   "source": [
    "#Selecting the top (Brand, Model) pairs\n",
    "minimum_count = 5000\n",
    "brand_model_count = df.groupby(['Brand', 'Model']).Cnt.sum().sort_values(ascending=False)\n",
    "brand_model_count = brand_model_count[brand_model_count>minimum_count].reset_index()\n",
    "brand_model_count.sort_values(by=[\"Brand\", \"Model\"]).to_csv(\"make_model.csv\", index=False)\n",
    "#drop all rows where the Model or Brand is not in the top models list\n",
    "for column in ['Brand', 'Model']:\n",
    "    df = df.drop(df[\n",
    "            ~df[column].isin(np.unique(brand_model_count[column]))\n",
    "        ].index)"
   ]
  },
  {
   "cell_type": "markdown",
   "metadata": {},
   "source": [
    "Grouping by - removing duplicate rows"
   ]
  },
  {
   "cell_type": "code",
   "execution_count": 41,
   "metadata": {},
   "outputs": [],
   "source": [
    "#We might have some duplicates in our data\n",
    "df['Cnt_co2e'] = df['Cnt'] * df['co2e']\n",
    "grouped = df.groupby(['Brand', 'Model', 'Fuel', 'year']).agg(\n",
    "    Cnt=pd.NamedAgg(column='Cnt', aggfunc='sum'),\n",
    "    Cnt_co2e=pd.NamedAgg(column='Cnt_co2e', aggfunc='sum')\n",
    ")\n",
    "df = grouped.reset_index()\n",
    "df['co2e'] = df['Cnt_co2e'] / df['Cnt'] #weighted average\n",
    "df.drop(columns='Cnt_co2e', inplace=True)"
   ]
  },
  {
   "cell_type": "markdown",
   "metadata": {},
   "source": [
    "Generating Brand dictionary"
   ]
  },
  {
   "cell_type": "code",
   "execution_count": null,
   "metadata": {},
   "outputs": [],
   "source": [
    "'''\n",
    "#One-time thing, please don't delete\n",
    "#used for generating a json Brand_dict that will require manual editing.\n",
    "\n",
    "Brands = np.unique(df['Brand'])\n",
    "new_Brand_dict = {}\n",
    "for b in Brands:\n",
    "    if b in Brand_dict:\n",
    "        new_Brand_dict[b] = Brand_dict[b]\n",
    "    else:\n",
    "        new_Brand_dict[b] = b\n",
    "\n",
    "#in Brands_found.json all brands included should be reasonable\n",
    "with open(\"Brands_found.json\", \"w\") as outfile:\n",
    "    json.dump(new_Brand_dict, outfile, indent=4)\n",
    "\n",
    "'''\n",
    "\n"
   ]
  },
  {
   "cell_type": "markdown",
   "metadata": {},
   "source": [
    "JSON for frontend"
   ]
  },
  {
   "cell_type": "code",
   "execution_count": 43,
   "metadata": {},
   "outputs": [],
   "source": [
    "df_frontend = df.drop(columns=[\"Cnt\", \"co2e\", \"year\"])\n",
    "car_array = []\n",
    "for _, row in df_frontend.iterrows():\n",
    "    car_array.append({\n",
    "        \"brand\": row[\"Brand\"],\n",
    "        \"model\": row[\"Model\"],\n",
    "        \"fuel\": row[\"Fuel\"]\n",
    "    })\n",
    "\n",
    "frontend_dict = {\n",
    "    \"cars\": car_array\n",
    "}\n",
    "with open(\"frontend_data.json\", \"w\") as outfile:\n",
    "    json.dump(frontend_dict, outfile, indent=4, sort_keys=True)"
   ]
  },
  {
   "cell_type": "code",
   "execution_count": null,
   "metadata": {},
   "outputs": [],
   "source": [
    "'''\n",
    "#old version - nested JSON for frontend\n",
    "\n",
    "# this cell is very ugly, but works \n",
    "\n",
    "df_frontend = df.drop(columns=[\"Cnt\", \"co2e\", \"year\"])\n",
    "df_frontend = df_frontend.groupby(['Brand', 'Model']).Fuel.apply(np.unique).reset_index() \n",
    "#np.array of Fuels per Brand and Models\n",
    "\n",
    "df_frontend = df_frontend.groupby('Brand').agg(\n",
    "    Model=pd.NamedAgg(column='Model', aggfunc=list),\n",
    "    Fuel=pd.NamedAgg(column='Fuel', aggfunc=list)\n",
    ").reset_index()\n",
    "\n",
    "#df_frontend is of the form Brand, list of Models, list of np.arrays of Fuels\n",
    "\n",
    "res_dict = {row[0]: {\n",
    "        row[1][i]: row[2][i].tolist() for i in range(len(row[1]))\n",
    "    } for row in zip(df_frontend['Brand'], df_frontend['Model'], df_frontend['Fuel'])}\n",
    "\n",
    "with open(\"frontend_data.json\", \"w\") as outfile:\n",
    "    json.dump(res_dict, outfile, indent=4, sort_keys=True)\n",
    "'''"
   ]
  },
  {
   "cell_type": "markdown",
   "metadata": {},
   "source": [
    "JSONs for Mr. Carbon"
   ]
  },
  {
   "cell_type": "code",
   "execution_count": 45,
   "metadata": {},
   "outputs": [],
   "source": [
    "folder_path = Path(\"carbon_db\") #using Path to make sure it is compatible among different OS.\n",
    "\n",
    "df['co2e'] = round(df['co2e'])\n",
    "df_carbon = df.drop(columns='Cnt').groupby(['Brand', 'Model', 'Fuel', 'year']).agg('mean')\n",
    "#df_carbon co2e value can be accessed by df_carbon.loc['Brand', 'Model', 'Fuel', 'year']['co2e']\n",
    "#since each such record is unique, this gives us a value (not a series)\n",
    "\n",
    "df_indeces = df_carbon.index.to_frame(index = False)\n",
    "df_indeces = df_indeces.groupby('Brand').agg(\n",
    "    Model = pd.NamedAgg(column='Model', aggfunc=list),\n",
    "    Fuel = pd.NamedAgg(column='Fuel', aggfunc=list),\n",
    "    year = pd.NamedAgg(column='year', aggfunc=list)\n",
    ").reset_index()\n",
    "\n",
    "for _, row in df_indeces.iterrows():\n",
    "    Brand = row['Brand']\n",
    "    path = folder_path / (Brand + \".json\")\n",
    "    res_dict = {}\n",
    "    assert len(row['Model']) == len(row['Fuel']) == len(row['year'])\n",
    "    for i in range(len(row['Model'])):\n",
    "        Model = row['Model'][i]\n",
    "        Fuel = row['Fuel'][i]\n",
    "        year = row['year'][i]\n",
    "\n",
    "        df_co2e = df_carbon.loc[Brand, Model, Fuel, year]\n",
    "        assert len(df_co2e) == 1\n",
    "        co2e = df_co2e['co2e']\n",
    "\n",
    "        if Model not in res_dict:\n",
    "            res_dict[Model] = {}\n",
    "        if Fuel not in res_dict[Model]:\n",
    "            res_dict[Model][Fuel] = {}\n",
    "        if year in res_dict[Model][Fuel]:\n",
    "            print(f\"Warning, there is a duplicate {Model} {Fuel} {year}\")\n",
    "            \n",
    "        res_dict[Model][Fuel][year] = co2e\n",
    "    \n",
    "    with open(path, \"w\") as outfile:\n",
    "        json.dump(res_dict, outfile, indent=4, sort_keys=True)\n"
   ]
  }
 ],
 "metadata": {
  "interpreter": {
   "hash": "ddc449e184181b92a3fe67274b6e4c8dcfa889261481199855b4e74d65938a86"
  },
  "kernelspec": {
   "display_name": "Python 3.9.0 64-bit",
   "language": "python",
   "name": "python3"
  },
  "language_info": {
   "codemirror_mode": {
    "name": "ipython",
    "version": 3
   },
   "file_extension": ".py",
   "mimetype": "text/x-python",
   "name": "python",
   "nbconvert_exporter": "python",
   "pygments_lexer": "ipython3",
   "version": "3.9.0"
  },
  "orig_nbformat": 4
 },
 "nbformat": 4,
 "nbformat_minor": 2
}
