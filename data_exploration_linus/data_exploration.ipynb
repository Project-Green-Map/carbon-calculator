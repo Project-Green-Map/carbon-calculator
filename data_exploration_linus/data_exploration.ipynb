{
 "cells": [
  {
   "cell_type": "code",
   "execution_count": 2,
   "metadata": {},
   "outputs": [],
   "source": [
    "import pandas as pd\n",
    "import numpy as np\n",
    "\n",
    "import json"
   ]
  },
  {
   "cell_type": "code",
   "execution_count": 5,
   "metadata": {},
   "outputs": [],
   "source": [
    "_json = json.load(open(\"./eu_emission_mother_load.json\"))\n",
    "eu_brand_model = pd.json_normalize(_json['results'])\n",
    "eu_brand_model.to_csv(\"./eu_emission_mother_load.csv\", index=False)"
   ]
  },
  {
   "cell_type": "code",
   "execution_count": null,
   "metadata": {},
   "outputs": [],
   "source": []
  },
  {
   "cell_type": "code",
   "execution_count": null,
   "metadata": {},
   "outputs": [],
   "source": []
  },
  {
   "cell_type": "code",
   "execution_count": 3,
   "metadata": {},
   "outputs": [
    {
     "data": {
      "text/html": [
       "<div>\n",
       "<style scoped>\n",
       "    .dataframe tbody tr th:only-of-type {\n",
       "        vertical-align: middle;\n",
       "    }\n",
       "\n",
       "    .dataframe tbody tr th {\n",
       "        vertical-align: top;\n",
       "    }\n",
       "\n",
       "    .dataframe thead th {\n",
       "        text-align: right;\n",
       "    }\n",
       "</style>\n",
       "<table border=\"1\" class=\"dataframe\">\n",
       "  <thead>\n",
       "    <tr style=\"text-align: right;\">\n",
       "      <th></th>\n",
       "      <th>Make</th>\n",
       "      <th>Fuel</th>\n",
       "      <th>Typ</th>\n",
       "      <th>Model</th>\n",
       "      <th>Cnt</th>\n",
       "      <th>Emission</th>\n",
       "      <th>year</th>\n",
       "    </tr>\n",
       "  </thead>\n",
       "  <tbody>\n",
       "    <tr>\n",
       "      <th>8384</th>\n",
       "      <td>PEUGEOT</td>\n",
       "      <td>ELECTRIC</td>\n",
       "      <td>U</td>\n",
       "      <td>2008 GT EV</td>\n",
       "      <td>992</td>\n",
       "      <td>0.0</td>\n",
       "      <td>2020</td>\n",
       "    </tr>\n",
       "    <tr>\n",
       "      <th>10958</th>\n",
       "      <td>NISSAN</td>\n",
       "      <td>ELECTRIC</td>\n",
       "      <td>ZE1</td>\n",
       "      <td>LEAF E + N-TEC</td>\n",
       "      <td>648</td>\n",
       "      <td>0.0</td>\n",
       "      <td>2020</td>\n",
       "    </tr>\n",
       "    <tr>\n",
       "      <th>2700</th>\n",
       "      <td>NISSAN</td>\n",
       "      <td>electric</td>\n",
       "      <td>ZE1</td>\n",
       "      <td>LEAF TEKNA</td>\n",
       "      <td>4666</td>\n",
       "      <td>0.0</td>\n",
       "      <td>2019</td>\n",
       "    </tr>\n",
       "    <tr>\n",
       "      <th>16344</th>\n",
       "      <td>HYUNDAI</td>\n",
       "      <td>electric</td>\n",
       "      <td>OS</td>\n",
       "      <td>KONA PREMIUM EV AUTO</td>\n",
       "      <td>316</td>\n",
       "      <td>0.0</td>\n",
       "      <td>2019</td>\n",
       "    </tr>\n",
       "    <tr>\n",
       "      <th>6936</th>\n",
       "      <td>VOLKSWAGEN</td>\n",
       "      <td>ELECTRIC</td>\n",
       "      <td>E1</td>\n",
       "      <td>ID3 LIFE</td>\n",
       "      <td>1318</td>\n",
       "      <td>0.0</td>\n",
       "      <td>2020</td>\n",
       "    </tr>\n",
       "    <tr>\n",
       "      <th>...</th>\n",
       "      <td>...</td>\n",
       "      <td>...</td>\n",
       "      <td>...</td>\n",
       "      <td>...</td>\n",
       "      <td>...</td>\n",
       "      <td>...</td>\n",
       "      <td>...</td>\n",
       "    </tr>\n",
       "    <tr>\n",
       "      <th>19993</th>\n",
       "      <td>MITSUBISHI J</td>\n",
       "      <td>petrol</td>\n",
       "      <td>GK0</td>\n",
       "      <td>MITSUBISHI ECLIPSE CROSS</td>\n",
       "      <td>212</td>\n",
       "      <td>NaN</td>\n",
       "      <td>2019</td>\n",
       "    </tr>\n",
       "    <tr>\n",
       "      <th>19994</th>\n",
       "      <td></td>\n",
       "      <td>DIESEL</td>\n",
       "      <td>J-A</td>\n",
       "      <td>MOKKAX</td>\n",
       "      <td>212</td>\n",
       "      <td>NaN</td>\n",
       "      <td>2017</td>\n",
       "    </tr>\n",
       "    <tr>\n",
       "      <th>19997</th>\n",
       "      <td>BMW</td>\n",
       "      <td>DIESEL</td>\n",
       "      <td>G3X</td>\n",
       "      <td>X3 XDRIVE30D</td>\n",
       "      <td>212</td>\n",
       "      <td>NaN</td>\n",
       "      <td>2017</td>\n",
       "    </tr>\n",
       "    <tr>\n",
       "      <th>19998</th>\n",
       "      <td>MERCEDES BENZ</td>\n",
       "      <td>Diesel</td>\n",
       "      <td>218</td>\n",
       "      <td>CLASSE CLS</td>\n",
       "      <td>212</td>\n",
       "      <td>NaN</td>\n",
       "      <td>2012</td>\n",
       "    </tr>\n",
       "    <tr>\n",
       "      <th>19999</th>\n",
       "      <td>KIA</td>\n",
       "      <td>Petrol</td>\n",
       "      <td>YB</td>\n",
       "      <td>RIO / 1.2 /</td>\n",
       "      <td>212</td>\n",
       "      <td>NaN</td>\n",
       "      <td>2017</td>\n",
       "    </tr>\n",
       "  </tbody>\n",
       "</table>\n",
       "<p>20000 rows × 7 columns</p>\n",
       "</div>"
      ],
      "text/plain": [
       "                Make                       Fuel  Typ  \\\n",
       "8384         PEUGEOT                   ELECTRIC    U   \n",
       "10958         NISSAN                   ELECTRIC  ZE1   \n",
       "2700          NISSAN                   electric  ZE1   \n",
       "16344        HYUNDAI                   electric   OS   \n",
       "6936      VOLKSWAGEN                   ELECTRIC   E1   \n",
       "...              ...                        ...  ...   \n",
       "19993   MITSUBISHI J                     petrol  GK0   \n",
       "19994                 DIESEL                     J-A   \n",
       "19997            BMW  DIESEL                     G3X   \n",
       "19998  MERCEDES BENZ                     Diesel  218   \n",
       "19999            KIA                     Petrol   YB   \n",
       "\n",
       "                          Model   Cnt  Emission  year  \n",
       "8384                 2008 GT EV   992       0.0  2020  \n",
       "10958            LEAF E + N-TEC   648       0.0  2020  \n",
       "2700                 LEAF TEKNA  4666       0.0  2019  \n",
       "16344      KONA PREMIUM EV AUTO   316       0.0  2019  \n",
       "6936                   ID3 LIFE  1318       0.0  2020  \n",
       "...                         ...   ...       ...   ...  \n",
       "19993  MITSUBISHI ECLIPSE CROSS   212       NaN  2019  \n",
       "19994                    MOKKAX   212       NaN  2017  \n",
       "19997              X3 XDRIVE30D   212       NaN  2017  \n",
       "19998                CLASSE CLS   212       NaN  2012  \n",
       "19999               RIO / 1.2 /   212       NaN  2017  \n",
       "\n",
       "[20000 rows x 7 columns]"
      ]
     },
     "execution_count": 3,
     "metadata": {},
     "output_type": "execute_result"
    }
   ],
   "source": [
    "eu_brand_model.sort_values('Emission')"
   ]
  },
  {
   "cell_type": "markdown",
   "metadata": {},
   "source": [
    "## Data Cleaning"
   ]
  },
  {
   "cell_type": "code",
   "execution_count": null,
   "metadata": {},
   "outputs": [],
   "source": [
    "# json.dump({make:make  for make in eu_brand_model['Make'].unique()}, open(\"make_renaming.json\", \"w\"), indent=4) "
   ]
  },
  {
   "cell_type": "code",
   "execution_count": null,
   "metadata": {},
   "outputs": [],
   "source": [
    "# json.dump({f:f  for f in eu_brand_model['Fuel'].unique()}, open(\"fuel_renaming.json\", \"w\"), indent=4) "
   ]
  },
  {
   "cell_type": "code",
   "execution_count": 5,
   "metadata": {},
   "outputs": [],
   "source": [
    "eu_brand_model['Fuel'] = eu_brand_model['Fuel'].str.upper()\n",
    "eu_brand_model['Fuel'] = eu_brand_model['Fuel'].str.strip()\n",
    "eu_brand_model['Make'] = eu_brand_model['Make'].str.upper()\n",
    "eu_brand_model['Make'] = eu_brand_model['Make'].str.strip()\n",
    "eu_brand_model['Model'] = eu_brand_model['Model'].str.upper()\n",
    "eu_brand_model['Model'] = eu_brand_model['Model'].str.strip()\n"
   ]
  },
  {
   "cell_type": "code",
   "execution_count": 6,
   "metadata": {},
   "outputs": [],
   "source": [
    "make_renaming_table = json.load(open(\"make_renaming.json\"))\n",
    "eu_brand_model['Make'] = eu_brand_model['Make'].map(lambda s: make_renaming_table.get(s) or s)"
   ]
  },
  {
   "cell_type": "code",
   "execution_count": 7,
   "metadata": {},
   "outputs": [],
   "source": [
    "eu_brand_model.drop('Typ', axis=1, inplace=True)\n",
    "eu_brand_model.replace('', np.nan, inplace=True)\n",
    "eu_brand_model.dropna(inplace=True)"
   ]
  },
  {
   "cell_type": "markdown",
   "metadata": {},
   "source": [
    "## Brand Specific Cleaning"
   ]
  },
  {
   "cell_type": "code",
   "execution_count": 8,
   "metadata": {},
   "outputs": [
    {
     "data": {
      "text/plain": [
       "Make\n",
       "VOLKSWAGEN           7902925\n",
       "RENAULT              5235661\n",
       "PEUGEOT              5174652\n",
       "FORD                 4389648\n",
       "MERCEDES-BENZ        3786680\n",
       "                      ...   \n",
       "REULT                    540\n",
       "DFSK                     478\n",
       "MPM MOTORS               240\n",
       "MORGAN                   218\n",
       "DACIA - ROMTURING        212\n",
       "Name: Cnt, Length: 65, dtype: int64"
      ]
     },
     "execution_count": 8,
     "metadata": {},
     "output_type": "execute_result"
    }
   ],
   "source": [
    "eu_brand_model.groupby(['Make']).Cnt.sum().sort_values(ascending=False)"
   ]
  },
  {
   "cell_type": "code",
   "execution_count": 9,
   "metadata": {},
   "outputs": [
    {
     "data": {
      "text/plain": [
       "array(['A4 AVANT', 'A1 SPORTBACK', 'Q5', 'Q3', 'A6 AVANT', 'Q2',\n",
       "       'A3 SPORTBACK', 'A5 SPORTBACK', 'Q8', 'A6 LIMOUSINE',\n",
       "       'AUDI E-TRON', 'Q7', 'A1', 'A3 LIMOUSINE', 'Q3 SPORTBACK',\n",
       "       'A4 LIMOUSINE', 'A4 ALLROAD QUATTRO', 'A1 SPORT NAV TFSI',\n",
       "       'A6 ALLROAD QUATTRO', 'A6 S LINE 40 TDI S-A',\n",
       "       'Q5 S LINE TDI QUATTRO S-A', 'SQ5', 'E-TRON 50', 'A4', 'A3', 'SQ7',\n",
       "       'A3 CABRIOLET', 'RS 3 SPORTBACK', 'E-TRON 55', 'A1 SPORT 30 TFSI',\n",
       "       'A7 SPORTBACK', 'A3 40 E-TRON', 'Q5 55 TFSI E',\n",
       "       'A1 S LINE 30 TFSI', 'Q5 50 TFSI E', 'A1 S LINE NAV TFSI',\n",
       "       'Q5 S LINE 40 TDI QUATTRO S-A', 'A5 CABRIOLET', 'S6 AVANT',\n",
       "       'TT COUPE', 'A3 S LINE TFSI', 'RS3 SPORTBACK', 'A1 CITYCARVER',\n",
       "       'A3 S LINE 35 TFSI S-A', 'E-TRON'], dtype=object)"
      ]
     },
     "execution_count": 9,
     "metadata": {},
     "output_type": "execute_result"
    }
   ],
   "source": [
    "top_models = eu_brand_model.loc[eu_brand_model.Cnt >= 5000].dropna()\n",
    "top_models.loc[top_models['Make']=='AUDI'].Model.unique()"
   ]
  },
  {
   "cell_type": "code",
   "execution_count": null,
   "metadata": {},
   "outputs": [
    {
     "data": {
      "text/plain": [
       "array(['A4', 'A1', 'Q5', 'Q3', 'A6', 'Q2', 'A3', 'A5', 'Q8',\n",
       "       'AUDI E-TRON', 'Q7', 'SQ5', 'E-TRON 50', 'SQ7', 'RS 3 SPORTBACK',\n",
       "       'E-TRON 55', 'A7', 'S6', 'TT COUPE', 'RS3 SPORTBACK', 'E-TRON'],\n",
       "      dtype=object)"
      ]
     },
     "execution_count": 136,
     "metadata": {},
     "output_type": "execute_result"
    }
   ],
   "source": [
    "# AUDI\n",
    "def audi(model: str):\n",
    "    if model[0] in ['A', 'Q', 'S'] and model[:4] != \"AUDI\":\n",
    "        return model.split(' ')[0]\n",
    "    else:\n",
    "        return model\n",
    "    \n",
    "top_models.loc[top_models['Make']=='AUDI'].Model.map(audi).unique()"
   ]
  },
  {
   "cell_type": "code",
   "execution_count": null,
   "metadata": {},
   "outputs": [
    {
     "data": {
      "text/plain": [
       "array(['118I', 'X3', 'X1', 'I3', 'X5', '116D', '520D', '320D', '225XE',\n",
       "       '118D', '530E', 'SERIE X', '218I', '318D', '116I', '320I', 'I3S',\n",
       "       '330E', 'X2', 'X4', '120I', '330I', '420D', '530D', 'SERIE 1',\n",
       "       '420I', 'M2', '216D', '218D', 'M140I', 'Z4', '220I', '318I',\n",
       "       '540I', 'M4', '120D', '520I'], dtype=object)"
      ]
     },
     "execution_count": 139,
     "metadata": {},
     "output_type": "execute_result"
    }
   ],
   "source": [
    "def bmw(model: str):\n",
    "    if model[0].isdigit() or model[1].isdigit():\n",
    "        return model.split(' ')[0]\n",
    "    else:\n",
    "        return model\n",
    "\n",
    "top_models.loc[top_models['Make']=='BMW'].Model.map(bmw).unique()"
   ]
  },
  {
   "cell_type": "code",
   "execution_count": 11,
   "metadata": {},
   "outputs": [],
   "source": [
    "eu_brand_model.sort_values(['Make', 'Make', 'Fuel', 'year']).to_csv(\"eu_emission_latest_with_year.csv\")"
   ]
  },
  {
   "cell_type": "markdown",
   "metadata": {},
   "source": []
  },
  {
   "cell_type": "code",
   "execution_count": 12,
   "metadata": {},
   "outputs": [],
   "source": [
    "df = pd.read_csv(\"eu_emission_latest_with_year.csv\")"
   ]
  },
  {
   "cell_type": "code",
   "execution_count": 13,
   "metadata": {},
   "outputs": [
    {
     "data": {
      "text/plain": [
       "Make               Model                         \n",
       "VOLKSWAGEN         GOLF                              1603729\n",
       "RENAULT            CLIO                              1603607\n",
       "PEUGEOT            208                               1243526\n",
       "VOLKSWAGEN         POLO                              1052062\n",
       "                   TIGUAN                            1050777\n",
       "                                                      ...   \n",
       "RENAULT            MEGANE / 1.5 / DCI                    212\n",
       "DACIA - ROMTURING  LOGAN                                 212\n",
       "VOLVO              XC40 R-DESIGN PRO T5 PHEV AUTO        212\n",
       "MERCEDES-BENZ      B 180 EXCLUSIVE EDITION +             212\n",
       "SKODA              KAROQ / 1.5 / TSI                     212\n",
       "Name: Cnt, Length: 5560, dtype: int64"
      ]
     },
     "execution_count": 13,
     "metadata": {},
     "output_type": "execute_result"
    }
   ],
   "source": [
    "make_model_count = df.groupby(['Make', 'Model']).Cnt.sum().sort_values(ascending=False)\n",
    "make_model_count"
   ]
  },
  {
   "cell_type": "code",
   "execution_count": 43,
   "metadata": {},
   "outputs": [],
   "source": [
    "make_model_count[make_model_count>10000].reset_index().sort_values(by=[\"Make\", \"Model\"]).to_csv(\"make_model.csv\", index=False)"
   ]
  },
  {
   "cell_type": "code",
   "execution_count": 31,
   "metadata": {},
   "outputs": [],
   "source": [
    "make_model_count = df.sort_values(by=\"Cnt\", ascending=False)"
   ]
  },
  {
   "cell_type": "code",
   "execution_count": 32,
   "metadata": {},
   "outputs": [],
   "source": [
    "make_model_count.loc[make_model_count['Cnt']>10000].sort_values(['Make', 'Model', 'Cnt']).to_csv(\"make_model_count.csv\")"
   ]
  }
 ],
 "metadata": {
  "interpreter": {
   "hash": "167d06ba1d7848b1fcbb31a25456f822796e5a38cb380ac95e3210c084576800"
  },
  "kernelspec": {
   "display_name": "Python 3.9.7 64-bit (conda)",
   "language": "python",
   "name": "python3"
  },
  "language_info": {
   "codemirror_mode": {
    "name": "ipython",
    "version": 3
   },
   "file_extension": ".py",
   "mimetype": "text/x-python",
   "name": "python",
   "nbconvert_exporter": "python",
   "pygments_lexer": "ipython3",
   "version": "3.9.7"
  },
  "orig_nbformat": 4
 },
 "nbformat": 4,
 "nbformat_minor": 2
}
